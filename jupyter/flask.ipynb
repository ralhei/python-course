{
 "cells": [
  {
   "cell_type": "code",
   "execution_count": 1,
   "metadata": {},
   "outputs": [],
   "source": [
    "from flask import Flask\n",
    "app = Flask(__name__)\n",
    "\n",
    "num_calls = 0\n",
    "\n",
    "@app.route('/')\n",
    "def hello_world():\n",
    "    global num_calls\n",
    "    num_calls += 1\n",
    "    return 'Hello, World! Called %d times.' % num_calls"
   ]
  },
  {
   "cell_type": "code",
   "execution_count": 2,
   "metadata": {},
   "outputs": [
    {
     "name": "stdout",
     "output_type": "stream",
     "text": [
      " * Serving Flask app \"__main__\" (lazy loading)\n",
      " * Environment: production\n",
      "   WARNING: This is a development server. Do not use it in a production deployment.\n",
      "   Use a production WSGI server instead.\n",
      " * Debug mode: off\n"
     ]
    },
    {
     "name": "stderr",
     "output_type": "stream",
     "text": [
      " * Running on http://127.0.0.1:5000/ (Press CTRL+C to quit)\n",
      "127.0.0.1 - - [05/Oct/2019 17:49:06] \"GET / HTTP/1.1\" 200 -\n",
      "127.0.0.1 - - [05/Oct/2019 17:49:08] \"GET / HTTP/1.1\" 200 -\n",
      "127.0.0.1 - - [05/Oct/2019 17:49:08] \"GET / HTTP/1.1\" 200 -\n",
      "127.0.0.1 - - [05/Oct/2019 17:49:09] \"GET / HTTP/1.1\" 200 -\n",
      "127.0.0.1 - - [05/Oct/2019 17:49:09] \"GET / HTTP/1.1\" 200 -\n"
     ]
    }
   ],
   "source": [
    "app.run()"
   ]
  },
  {
   "cell_type": "code",
   "execution_count": null,
   "metadata": {},
   "outputs": [],
   "source": []
  }
 ],
 "metadata": {
  "kernelspec": {
   "display_name": "Python 3",
   "language": "python",
   "name": "python3"
  },
  "language_info": {
   "codemirror_mode": {
    "name": "ipython",
    "version": 3
   },
   "file_extension": ".py",
   "mimetype": "text/x-python",
   "name": "python",
   "nbconvert_exporter": "python",
   "pygments_lexer": "ipython3",
   "version": "3.7.4"
  }
 },
 "nbformat": 4,
 "nbformat_minor": 2
}
