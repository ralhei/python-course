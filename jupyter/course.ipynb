{
 "cells": [
  {
   "cell_type": "markdown",
   "metadata": {
    "slideshow": {
     "slide_type": "slide"
    }
   },
   "source": [
    "# Python for the experienced*\n",
    "\n",
    "\\* both more or less\n",
    "\n",
    "### by Ralph Heinkel\n",
    "rh@ralph-heinkel.com\n",
    "\n",
    "\n",
    "<small>Published under [Creative Commons Attribution ShareAlike (CC BY-SA) License](https://creativecommons.org/licenses/by-sa/4.0/).</small>\n",
    "[<img style=\"vertical-align: left;\" src=\"Images/cc-by-sa.png\">](https://creativecommons.org/licenses/by-sa/4.0/)"
   ]
  },
  {
   "cell_type": "markdown",
   "metadata": {
    "slideshow": {
     "slide_type": "subslide"
    }
   },
   "source": [
    "# About me\n",
    "\n",
    " * Studied Medical Computer Science at University of Heidelberg\n",
    " * Diploma theses at EMBL in structural biology\n",
    " * Supercomputing Resource Manager at EMBL\n",
    " * IT unit director at Cenix Bioscience GmbH\n",
    " * Freelance biocomputing and IT consultant (GlaxoSmithCline, Oxford University, SAP, ...)\n",
    " \n",
    "# Python, Linux & me\n",
    " * Using Linux and Python since 1996 at EMBL\n",
    " * Since then all my projects were implemented in Python\n",
    " * Developed three Laboratory Information Management Systems (LIMS)"
   ]
  },
  {
   "cell_type": "markdown",
   "metadata": {
    "slideshow": {
     "slide_type": "slide"
    }
   },
   "source": [
    "# Overview of today's course\n",
    "\n",
    " * About Python and its ecosphere\n",
    " * Python interpreter\n",
    " * Virtual environments and external packages\n",
    " * Using jupyter notebook\n",
    " * Some Python basics recap\n",
    " * Delving deeper into Python\n",
    " * Ensuring code quality"
   ]
  },
  {
   "cell_type": "markdown",
   "metadata": {
    "slideshow": {
     "slide_type": "slide"
    }
   },
   "source": [
    "# About Python and its ecosphere\n",
    " * Version 2.7.x will be deprecated on Jan. 1st 2020\n",
    " * The current latest version is 3.8.0\n",
    " * Python is an interpreted language ...\n",
    " * ... but there are options to compile code\n",
    " * Cross-platform (Linux, Windows, Mac, and maaaaaany more)\n",
    " * Can be extended by C/C++/Fortran/... extension libraries\n",
    " * Comes with powerful standard library (\"batteries included\")\n",
    " * Huge collection of 3rd party packages, projects, frameworks, ..."
   ]
  },
  {
   "cell_type": "markdown",
   "metadata": {
    "slideshow": {
     "slide_type": "subslide"
    }
   },
   "source": [
    "## Python resources\n",
    "\n",
    "### www.python.org\n",
    "For downloading Python or quick links to the documentation.\n",
    "\n",
    "At https://docs.python.org/3/library the full documentation of the standard library can be found (keep it under your pillow!).<br/>\n",
    "*This is still my main point of reference*.\n",
    "\n",
    "### www.pypi.org\n",
    "\n",
    "The **Py**thon **P**ackage **I**ndex. Contains over 200.000 projects. \n",
    "\n",
    "This is *the* main resource if you have a problem which might have already been solved. And many are ;-)\n",
    "\n"
   ]
  },
  {
   "cell_type": "markdown",
   "metadata": {
    "slideshow": {
     "slide_type": "slide"
    }
   },
   "source": [
    "# The Python interpreter"
   ]
  },
  {
   "cell_type": "markdown",
   "metadata": {
    "slideshow": {
     "slide_type": "subslide"
    }
   },
   "source": [
    "# Exercise: Create a simple Python script and run it\n",
    "\n",
    "Open a text editor, create a file *hello_world.py* and paste the following text into it\n",
    "``` python\n",
    "#!/usr/bin/env python3\n",
    "print(\"Hello world!\")\n",
    "```\n",
    "\n",
    "This script can be executed by typing the following in your terminal:\n",
    "``` bash\n",
    "$ python3 hello_world.py\n",
    "```\n",
    "\n",
    "or by making the script executable and running it as standalone. This requires a Shebang line (line 1) in order to work, so the system knows how to interpret the text file. So\n",
    "``` bash\n",
    "$ chmod +x hello_world.py\n",
    "$ ./hello_world.py\n",
    "```\n",
    "gives the same result :) \n",
    "\n",
    "(ok might be different under windows, but do yourself a favour and don't develop code under windows)"
   ]
  },
  {
   "cell_type": "markdown",
   "metadata": {
    "slideshow": {
     "slide_type": "subslide"
    }
   },
   "source": [
    "# Use Python directly in the interpreter\n",
    "\n",
    "In your unix (or possibly windows) shell type (do it yourself!)\n",
    "``` python\n",
    "$ python3\n",
    ">>> 15 * 3\n",
    "45\n",
    "```\n",
    "Here an example on how to use the `math` module of the standard library:\n",
    "``` python\n",
    "$ python3\n",
    ">>> import math\n",
    ">>> math.pi * 10\n",
    "31.4159265359\n",
    "```\n",
    "Quiz: What happens if you type `_ / 10`?\n",
    "\n",
    "Exit the interpreter with `Control-d` (Linux/Mac) or `Control-z` (Windows). \n",
    "\n",
    "Quiz: What happens when typing `Control-z` in a running Python interpreter on Linux?"
   ]
  },
  {
   "cell_type": "markdown",
   "metadata": {
    "slideshow": {
     "slide_type": "subslide"
    }
   },
   "source": [
    "## Little test for your Python knowledge: Find the bug"
   ]
  },
  {
   "cell_type": "code",
   "execution_count": null,
   "metadata": {
    "scrolled": false,
    "slideshow": {
     "slide_type": "fragment"
    }
   },
   "outputs": [],
   "source": [
    "import math\n",
    "radius = input('Radius of the circle ')\n",
    "circumference = 2 * math.pi * radius\n",
    "print(circumference)"
   ]
  },
  {
   "cell_type": "markdown",
   "metadata": {
    "slideshow": {
     "slide_type": "fragment"
    }
   },
   "source": [
    "Reason: The `input()`-function does not interpret what is typed to it, it always returns strings, but for doing math you need a numeric value. \n",
    "\n",
    "Solution?"
   ]
  },
  {
   "cell_type": "markdown",
   "metadata": {
    "slideshow": {
     "slide_type": "fragment"
    }
   },
   "source": [
    "`circumference = 2 * math.pi * float(radius)`"
   ]
  },
  {
   "cell_type": "markdown",
   "metadata": {
    "slideshow": {
     "slide_type": "subslide"
    }
   },
   "source": [
    "# Run a simple Python command directly from the shell:\n",
    "```bash\n",
    "$ python3 -c 'import math; print(math.pi * 10)'\n",
    "31.41592653589793\n",
    "```"
   ]
  },
  {
   "cell_type": "markdown",
   "metadata": {
    "slideshow": {
     "slide_type": "subslide"
    }
   },
   "source": [
    "# Directly executing a stdlib module\n",
    "\n",
    "Some modules of the standard library (as well as other 3rd party packages) allow for direct execution.\n",
    "\n",
    "The following starts up a very simple webserver:\n",
    "```bash\n",
    "$ python -m http.server\n",
    "Serving HTTP on 0.0.0.0 port 7000 (http://0.0.0.0:7000/) ...\n",
    "```\n",
    "\n",
    "Now open a browser, and go to the shown URL. What do you see?\n",
    "\n",
    "**Important: Never use this for a productive service!!!**"
   ]
  },
  {
   "cell_type": "markdown",
   "metadata": {
    "slideshow": {
     "slide_type": "subslide"
    }
   },
   "source": [
    "# Excercise:\n",
    "\n",
    " 1. Goto the docs for this http server module\n",
    " 2. Find out how to serve the `/tmp` directory"
   ]
  },
  {
   "cell_type": "markdown",
   "metadata": {
    "slideshow": {
     "slide_type": "slide"
    }
   },
   "source": [
    "## Installing external packages\n",
    "\n",
    "\n",
    "## Virtual environments"
   ]
  },
  {
   "cell_type": "markdown",
   "metadata": {
    "slideshow": {
     "slide_type": "subslide"
    }
   },
   "source": [
    "# Using pip\n",
    "\n",
    "How to install 3rd party packages? Use the *`pip`* command.\n",
    "\n",
    "Possible problems with `pip`:\n",
    " * Packages are installed into system's Python `site-packages` -> usually write protected\n",
    " * Same package, but different versions for different projects could lead to conflicts\n",
    " "
   ]
  },
  {
   "cell_type": "markdown",
   "metadata": {
    "slideshow": {
     "slide_type": "subslide"
    }
   },
   "source": [
    "## The solution: Virtual Python environments\n",
    "\n",
    " * For each project create its own light-weight virtualenv\n",
    " * Each virtualenv only contains packages required for this project\n",
    " * Cheap to create, cheap to dispose of\n",
    " \n",
    "Most Linux distro have system packages for virtualenv (and virtualenvwrapper).<br/>\n",
    "Possible installer commands (as root) are:\n",
    "```bash\n",
    "yum install virtualenv virtualenvwrapper      # RedHat, Centos, \n",
    "zypper install virtualenv virtualenvwrapper   # OpenSuse\n",
    "apt-get install virtualenv virtualenvwrapper  # Ubuntu\n",
    "```\n",
    "Or use the `venv` command comming with Python3. "
   ]
  },
  {
   "cell_type": "markdown",
   "metadata": {
    "slideshow": {
     "slide_type": "subslide"
    }
   },
   "source": [
    "# Virtualenv Howto\n",
    "\n",
    "Open a Linux shell, create a new (project) directory, `cd` into it, and create the virtualenv as shown below.\n",
    "\n",
    "For the setup here at EBI, please type `deactivate conda` first (the word `base` at your prompt should disappear!)\n",
    "\n",
    "As (a / my) convention I name the virtualenv the same as the project.\n",
    "```bash\n",
    "$ mkdir mynewproj; cd mynewproj\n",
    "$ mkvirtualenv -a . -p /usr/bin/python3 mynewproj\n",
    "Running virtualenv with interpreter /usr/bin/python3\n",
    "Already using interpreter /usr/bin/python3\n",
    "New python executable in /home/ralph/.virtualenvs/mynewproj/bin/python\n",
    "Installing setuptools, pip, wheel...\n",
    "done.\n",
    "[...]\n",
    "(mynewproj) ~/mynewproj $\n",
    "```"
   ]
  },
  {
   "cell_type": "markdown",
   "metadata": {
    "slideshow": {
     "slide_type": "subslide"
    }
   },
   "source": [
    "## More virtualenv commands\n",
    "\n",
    "Quit the virtualenv:\n",
    "```bash\n",
    "$ deactivate\n",
    "(note how the shell prompt changes).\n",
    "```    \n",
    "\n",
    "Activate the virtualenv again. For an important effect to see do `cd /tmp` first.\n",
    "```bash\n",
    "$ workon mynewproj\n",
    "(watch the shell prompt, and your current directory ...)\n",
    "```    \n",
    "\n",
    "Finally remove the virtualenv (and all its packages):\n",
    "```bash\n",
    "$ rmvirtualenv mynewproj\n",
    "(note 1: virtualenv must be deactivated first)\n",
    "(note 2: this does NOT remove your project!)\n",
    "```\n"
   ]
  },
  {
   "cell_type": "markdown",
   "metadata": {
    "slideshow": {
     "slide_type": "subslide"
    }
   },
   "source": [
    "# Use a virtualenv to install jupyter\n",
    "```bash\n",
    "$ mkdir jup; cd jup\n",
    "$ mkvirtualenv -a . -p /usr/bin/python3 jup\n",
    "$ pip install jupyter\n",
    "```\n",
    "\n",
    "To check where `jupyter` is installed type `which jupyter`.<br/>\n",
    "Then fire up `jupyter` notebook:\n",
    "```bash\n",
    "$ jupyter notebook\n",
    "```\n",
    "and your browser should automatically open a page in `jupyter`.<br/>\n",
    "If not, copy the URL printed out on the shell and paste it into a new browser tab.<br/>\n",
    "(E.g. `http://localhost:8888/?token=e3c6967185a776cefc71d219cc`)"
   ]
  },
  {
   "cell_type": "markdown",
   "metadata": {
    "slideshow": {
     "slide_type": "slide"
    }
   },
   "source": [
    "# Using jupyter notebook"
   ]
  },
  {
   "cell_type": "markdown",
   "metadata": {
    "slideshow": {
     "slide_type": "subslide"
    }
   },
   "source": [
    "# Quick jupyter notebook intro\n",
    "\n",
    "- Click on 'New' on the right hand side and choose 'Python3'\n",
    "- Just type some Python code into the first cell and hit `Ctrl-ENTER` or `Shift-ENTER`. \n",
    "- One cell depends on the imports and result values of the previous ones\n",
    "- Some magic commands can be executed within jupyter:\n",
    "    - `%ls` - List files from the current directory\n",
    "    - `%%writefile python_code.py` - Write the cell's code into this file\n",
    "    - `%load python_code.py` - Insert code from external file\n",
    "    - `!<some bash commend>` - Run external command from within cell. Examples:<br/>\n",
    "        - `!pip install pandas`\n",
    "        - `!ls -al *.csv`\n",
    "  \n",
    "  More can be found at https://ipython.readthedocs.io/en/stable/interactive/magics.html\n"
   ]
  },
  {
   "cell_type": "markdown",
   "metadata": {
    "slideshow": {
     "slide_type": "slide"
    }
   },
   "source": [
    "# Some Python basics recap"
   ]
  },
  {
   "cell_type": "markdown",
   "metadata": {
    "slideshow": {
     "slide_type": "subslide"
    }
   },
   "source": [
    "# What is an \"iterable\"?"
   ]
  },
  {
   "cell_type": "markdown",
   "metadata": {
    "slideshow": {
     "slide_type": "fragment"
    }
   },
   "source": [
    "### Answer:  Something (usually a container) you can loop over."
   ]
  },
  {
   "cell_type": "markdown",
   "metadata": {
    "slideshow": {
     "slide_type": "fragment"
    }
   },
   "source": [
    "### Examples?"
   ]
  },
  {
   "cell_type": "markdown",
   "metadata": {
    "slideshow": {
     "slide_type": "fragment"
    }
   },
   "source": [
    "- Lists\n",
    "- Tuples\n",
    "- Sets\n",
    "- Dictionaries\n",
    "- Strings\n",
    "- ... what else? ..."
   ]
  },
  {
   "cell_type": "markdown",
   "metadata": {
    "slideshow": {
     "slide_type": "subslide"
    }
   },
   "source": [
    "### The simplest form of iteration:\n",
    "Looping over a list:"
   ]
  },
  {
   "cell_type": "code",
   "execution_count": null,
   "metadata": {
    "scrolled": true,
    "slideshow": {
     "slide_type": "-"
    }
   },
   "outputs": [],
   "source": [
    "for elem in [0, 1, 2, 3, 4]:\n",
    "    print(elem)"
   ]
  },
  {
   "cell_type": "markdown",
   "metadata": {
    "slideshow": {
     "slide_type": "fragment"
    }
   },
   "source": [
    "or over a range:  (Question: which value to put for `x` to get the same output?)"
   ]
  },
  {
   "cell_type": "code",
   "execution_count": null,
   "metadata": {},
   "outputs": [],
   "source": [
    "for elem in range(x):\n",
    "    print('num: %6d' % elem)       # traditional style of string formatting using % chars"
   ]
  },
  {
   "cell_type": "markdown",
   "metadata": {
    "slideshow": {
     "slide_type": "fragment"
    }
   },
   "source": [
    "For the `range()`-function the same rules apply as for slicing:\n",
    "\n",
    "`[0, 1, 2, 3, 4, 5, 6, 7][2:4]    # -> returns [2, 3]`\n",
    "\n",
    "Reason: The index points to the place **in between** the list items (think of \"at the commas\"). So to get the same result from `range()` as for the slicing do:\n",
    "\n",
    "`range(2, 4)`"
   ]
  },
  {
   "cell_type": "markdown",
   "metadata": {
    "slideshow": {
     "slide_type": "subslide"
    }
   },
   "source": [
    "#### Loop over a string:"
   ]
  },
  {
   "cell_type": "code",
   "execution_count": null,
   "metadata": {
    "slideshow": {
     "slide_type": "-"
    }
   },
   "outputs": [],
   "source": [
    "pangram = \"The quick brown fox jumps over the lazy dog\"\n",
    "\n",
    "for word in pangram:\n",
    "    # format() with positional parameter, can be numbered like {0}, {1}, ...\n",
    "    print('{}: {}'.format('elem', word))"
   ]
  },
  {
   "cell_type": "markdown",
   "metadata": {
    "slideshow": {
     "slide_type": "-"
    }
   },
   "source": [
    "**Question**: What does this print?"
   ]
  },
  {
   "cell_type": "markdown",
   "metadata": {
    "slideshow": {
     "slide_type": "fragment"
    }
   },
   "source": [
    "#### Exercise: Loop over individual words of this sentence."
   ]
  },
  {
   "cell_type": "code",
   "execution_count": null,
   "metadata": {
    "scrolled": true,
    "slideshow": {
     "slide_type": "fragment"
    }
   },
   "outputs": [],
   "source": [
    "for word in pangram.split():\n",
    "    print('{elem}'.format(elem=word))     # format() with dict-style parameters"
   ]
  },
  {
   "cell_type": "markdown",
   "metadata": {
    "slideshow": {
     "slide_type": "fragment"
    }
   },
   "source": [
    "**Explanation:** The `split()` method returns a list of words that can be iterated over. By default it splits at space or newline characters."
   ]
  },
  {
   "cell_type": "markdown",
   "metadata": {
    "slideshow": {
     "slide_type": "subslide"
    }
   },
   "source": [
    "**Quick question in between:** How to find out what methods and attributes an object has?"
   ]
  },
  {
   "cell_type": "markdown",
   "metadata": {
    "slideshow": {
     "slide_type": "fragment"
    }
   },
   "source": [
    "**Answer:** Use the `dir()`-function!"
   ]
  },
  {
   "cell_type": "code",
   "execution_count": null,
   "metadata": {
    "scrolled": true,
    "slideshow": {
     "slide_type": "fragment"
    }
   },
   "outputs": [],
   "source": [
    "dir(str)   # or dir('')"
   ]
  },
  {
   "cell_type": "markdown",
   "metadata": {
    "slideshow": {
     "slide_type": "subslide"
    }
   },
   "source": [
    "## Looping over more complex data structure\n",
    "In the next example we loop over a list of tuples:\n"
   ]
  },
  {
   "cell_type": "code",
   "execution_count": null,
   "metadata": {},
   "outputs": [],
   "source": [
    "chess_coordinates = [('a', 5, 'king'), ('c', 6, 'bishop'), ('e', 2, 'knight')]\n",
    "for x, y, figure in chess_coordinates:\n",
    "    print('+{2:>9s} at position {0}{1}'.format(x, y, figure))"
   ]
  },
  {
   "cell_type": "markdown",
   "metadata": {
    "slideshow": {
     "slide_type": "fragment"
    }
   },
   "source": [
    "Note the extra formatting directives: \n",
    "- reserve 9 characters for the figure strings\n",
    "- print them right-aligned"
   ]
  },
  {
   "cell_type": "markdown",
   "metadata": {
    "slideshow": {
     "slide_type": "subslide"
    }
   },
   "source": [
    "#### Exercise: Back to the pangram - additionally print the word number next to each word."
   ]
  },
  {
   "cell_type": "markdown",
   "metadata": {
    "slideshow": {
     "slide_type": "fragment"
    }
   },
   "source": [
    "The not-so-elegant-but-functional solution:"
   ]
  },
  {
   "cell_type": "code",
   "execution_count": null,
   "metadata": {},
   "outputs": [],
   "source": [
    "pangram_words = pangram.split()\n",
    "for index in range(len(pangram_words)):\n",
    "    print('{0}: {1}'.format(index, pangram_words[index]))"
   ]
  },
  {
   "cell_type": "markdown",
   "metadata": {
    "slideshow": {
     "slide_type": "fragment"
    }
   },
   "source": [
    "Now my favourite solution:"
   ]
  },
  {
   "cell_type": "code",
   "execution_count": null,
   "metadata": {
    "slideshow": {
     "slide_type": "-"
    }
   },
   "outputs": [],
   "source": [
    "for index, elem in enumerate(pangram.split()):\n",
    "    print(f'{index}: {elem}')                  # latest feature: f-strings"
   ]
  },
  {
   "cell_type": "markdown",
   "metadata": {
    "slideshow": {
     "slide_type": "fragment"
    }
   },
   "source": [
    "**Explanation:** The `enumerate()`-function returns a list of `(<index>, <value>)`-tuples."
   ]
  },
  {
   "cell_type": "markdown",
   "metadata": {
    "slideshow": {
     "slide_type": "subslide"
    }
   },
   "source": [
    "## Interating over a dictionary"
   ]
  },
  {
   "cell_type": "code",
   "execution_count": null,
   "metadata": {
    "slideshow": {
     "slide_type": "fragment"
    }
   },
   "outputs": [],
   "source": [
    "phone_numbers = {'emma': '0178-3434', 'john': '07225-5544', 'larissa': '555-666-77'}\n",
    "for num in phone_numbers:\n",
    "    print(num)"
   ]
  },
  {
   "cell_type": "markdown",
   "metadata": {
    "slideshow": {
     "slide_type": "-"
    }
   },
   "source": [
    "**Question:** What does this print?"
   ]
  },
  {
   "cell_type": "markdown",
   "metadata": {
    "slideshow": {
     "slide_type": "fragment"
    }
   },
   "source": [
    "**Rule:** Iterating over a dictionary means iterating over its keys, so it prints the names!<br/>\n",
    "**Note:** Since Python 3.6 dictionaries are ordered, content is delivered in the same order as it has been added."
   ]
  },
  {
   "cell_type": "markdown",
   "metadata": {
    "slideshow": {
     "slide_type": "fragment"
    }
   },
   "source": [
    "**Question:** How to iterate over the values?"
   ]
  },
  {
   "cell_type": "code",
   "execution_count": null,
   "metadata": {
    "slideshow": {
     "slide_type": "fragment"
    }
   },
   "outputs": [],
   "source": [
    "# To iterate over values only:\n",
    "for num in phone_numbers.values():\n",
    "    print(num)\n",
    "    \n",
    "# Or to iterate over keys and values together:\n",
    "for name, num in phone_numbers.items():\n",
    "    print(f'{name}: {num}')"
   ]
  },
  {
   "cell_type": "markdown",
   "metadata": {
    "slideshow": {
     "slide_type": "subslide"
    }
   },
   "source": [
    "## Interating over a file\n",
    "Yes, a file is also iterable. \n",
    "\n",
    "**Exercise**: Let's readout the `passwd` file in `/etc`."
   ]
  },
  {
   "cell_type": "code",
   "execution_count": null,
   "metadata": {
    "slideshow": {
     "slide_type": "fragment"
    }
   },
   "outputs": [],
   "source": [
    "fp = open('/etc/passwd')\n",
    "for line in fp:\n",
    "    print(line)"
   ]
  },
  {
   "cell_type": "markdown",
   "metadata": {
    "slideshow": {
     "slide_type": "fragment"
    }
   },
   "source": [
    "**Questions**: \n",
    "- Why are there empty lines in the printout?\n",
    "- How to get rid of the extra empty lines?"
   ]
  },
  {
   "cell_type": "markdown",
   "metadata": {
    "slideshow": {
     "slide_type": "fragment"
    }
   },
   "source": [
    "**Solution**: Use the `.strip()`-method of the `line`-string."
   ]
  },
  {
   "cell_type": "code",
   "execution_count": null,
   "metadata": {},
   "outputs": [],
   "source": [
    "fp = open('/etc/passwd')\n",
    "for line in fp:\n",
    "    print(line.strip())"
   ]
  },
  {
   "cell_type": "markdown",
   "metadata": {
    "slideshow": {
     "slide_type": "subslide"
    }
   },
   "source": [
    "### Iterating over a file (cont.)\n",
    "**Exercise**: Loop over `/etc/passwd` and only print username (pos 0) and home directory (pos 5)"
   ]
  },
  {
   "cell_type": "code",
   "execution_count": null,
   "metadata": {
    "slideshow": {
     "slide_type": "fragment"
    }
   },
   "outputs": [],
   "source": [
    "with open('/etc/passwd') as fp:\n",
    "    for line in fp:\n",
    "        parts = line.strip().split(':')   \n",
    "        print(f'{parts[0]}: {parts[5]}')\n",
    "# from here on 'fp' is closed and cannot be used any longer."
   ]
  },
  {
   "cell_type": "markdown",
   "metadata": {
    "slideshow": {
     "slide_type": "fragment"
    }
   },
   "source": [
    "**Exercise**: Now do the same using the `csv`-module of Python. Preferably use the `DictReader` class."
   ]
  },
  {
   "cell_type": "code",
   "execution_count": null,
   "metadata": {
    "slideshow": {
     "slide_type": "fragment"
    }
   },
   "outputs": [],
   "source": [
    "import csv\n",
    "fields = ['user', 'pwd', 'uid', 'gid', 'desc', 'home', 'shell']\n",
    "with open('/etc/passwd') as fp:\n",
    "   reader = csv.DictReader(fp, fieldnames=fields, delimiter=':')\n",
    "   for row in reader:\n",
    "       print('{user}: {home}'.format(**row))"
   ]
  },
  {
   "cell_type": "markdown",
   "metadata": {
    "slideshow": {
     "slide_type": "slide"
    }
   },
   "source": [
    "# Delving deeper into Python"
   ]
  },
  {
   "cell_type": "markdown",
   "metadata": {
    "slideshow": {
     "slide_type": "slide"
    }
   },
   "source": [
    "# Comprehensions"
   ]
  },
  {
   "cell_type": "markdown",
   "metadata": {
    "slideshow": {
     "slide_type": "subslide"
    }
   },
   "source": [
    "**Comprehensions** are a way of computationally creating/filling Python containers.\n",
    "\n",
    "Instead of:\n",
    "```\n",
    "mylist = []\n",
    "for val in range(10):\n",
    "    if val not in (3, 6):\n",
    "        mylist.append(val**2)\n",
    "```\n",
    "use a **List-comprehension:**:\n",
    "```\n",
    "mylist = [val**2 for val in range(10) if val not in (3,6)]\n",
    "```"
   ]
  },
  {
   "cell_type": "markdown",
   "metadata": {
    "slideshow": {
     "slide_type": "fragment"
    }
   },
   "source": [
    "or, to create a set (set-comprehension):\n",
    "```\n",
    "myset = {val**2 for val in range(10) if val not in (3,6)}\n",
    "```"
   ]
  },
  {
   "cell_type": "markdown",
   "metadata": {
    "slideshow": {
     "slide_type": "subslide"
    }
   },
   "source": [
    "## Comprehensions (cont.)\n",
    "#### Exercise: Build a dictionary with the plain number as key, the squares as values:"
   ]
  },
  {
   "cell_type": "code",
   "execution_count": null,
   "metadata": {
    "slideshow": {
     "slide_type": "fragment"
    }
   },
   "outputs": [],
   "source": [
    "{val: val**2 for val in range(10) if val not in (3,6)}"
   ]
  },
  {
   "cell_type": "markdown",
   "metadata": {
    "slideshow": {
     "slide_type": "fragment"
    }
   },
   "source": [
    "Note: The syntax is very similar to set-comprehension.<br/>The difference is `{val: val**2 ...}` instead of `{val**2 ..}`.\n",
    "\n",
    "### About comprehensions\n",
    "- Comprehensins are typically much faster than explicit Python loops\n",
    "- Syntax is more concise ...\n",
    "- ... but might also be harder to read if spanning multiple rows or nested"
   ]
  },
  {
   "cell_type": "markdown",
   "metadata": {
    "slideshow": {
     "slide_type": "skip"
    }
   },
   "source": [
    "#### Exercise: Build a list of dictionaries from `/etc/passwd` using dict-comprehensions."
   ]
  },
  {
   "cell_type": "code",
   "execution_count": null,
   "metadata": {
    "slideshow": {
     "slide_type": "skip"
    }
   },
   "outputs": [],
   "source": [
    "fields = ['user', 'pwd', 'uid', 'gid', 'desc', 'home', 'shell']\n",
    "rows = []\n",
    "with open('/etc/passwd') as fp:\n",
    "    for line in fp:\n",
    "        parts = line.strip().split(':')   \n",
    "        "
   ]
  },
  {
   "cell_type": "markdown",
   "metadata": {
    "slideshow": {
     "slide_type": "slide"
    }
   },
   "source": [
    "# Iterators"
   ]
  },
  {
   "cell_type": "markdown",
   "metadata": {
    "slideshow": {
     "slide_type": "subslide"
    }
   },
   "source": [
    "### An iterator \n",
    "- has a state that tells were it is during iteration\n",
    "- can be called with the `next()` function to return the next value\n",
    "- raises `StopIteration` when values are exhausted.\n",
    "\n",
    "**Example:**\n",
    "```\n",
    "s = 'UK'      # a string, no state, is iterable\n",
    "i = iter(s)   # an iterator; its state is the position 0 of 'U'\n",
    "next(i)       # returns 'U', advances internally to 'K'\n",
    "next(i)       # returns 'K'\n",
    "next(i)\n",
    "Traceback (most recent call last):\n",
    "  File \"<stdin>\", line 1, in <module>\n",
    "StopIteration\n",
    "```\n",
    "An iterator can also be read out in one shot using the `list()` function:\n",
    "```\n",
    "list(iter(s))   # returns ['U', 'K']\n",
    "```"
   ]
  },
  {
   "cell_type": "markdown",
   "metadata": {
    "slideshow": {
     "slide_type": "subslide"
    }
   },
   "source": [
    "### So, why iterators?\n",
    "They can save a lot of memory, compared to having all data availble (loaded or computed) upfront.\n",
    "\n",
    "#### An example for comparison:"
   ]
  },
  {
   "cell_type": "code",
   "execution_count": null,
   "metadata": {
    "slideshow": {
     "slide_type": "fragment"
    }
   },
   "outputs": [],
   "source": [
    "import sys\n",
    "fp = open('/etc/services')  # or any other biggish text file ...\n",
    "print(sys.getsizeof(fp))\n",
    "lines = fp.readlines()\n",
    "print(sys.getsizeof(lines))"
   ]
  },
  {
   "cell_type": "markdown",
   "metadata": {
    "slideshow": {
     "slide_type": "fragment"
    }
   },
   "source": [
    "**Explanation:** `fp` is an iterator instance that loops over the file returning only one line at a time when requested (e.g. one at each iteration of a loop). "
   ]
  },
  {
   "cell_type": "markdown",
   "metadata": {
    "slideshow": {
     "slide_type": "subslide"
    }
   },
   "source": [
    "### More examples of Python iterators (1)\n",
    "The `zip()`-function returns an iterator that aggregates elements from each of the iterables passed as arguments.\n",
    "\n",
    "#### Example:"
   ]
  },
  {
   "cell_type": "code",
   "execution_count": null,
   "metadata": {
    "scrolled": true,
    "slideshow": {
     "slide_type": "-"
    }
   },
   "outputs": [],
   "source": [
    "list(zip(['a', 'b', 'c'], [1, 2, 3]))"
   ]
  },
  {
   "cell_type": "markdown",
   "metadata": {
    "slideshow": {
     "slide_type": "-"
    }
   },
   "source": [
    "Try it out - what do you get? Then, make one list longer than they other. Try out again."
   ]
  },
  {
   "cell_type": "markdown",
   "metadata": {
    "slideshow": {
     "slide_type": "fragment"
    }
   },
   "source": [
    "Again we need the `list()`-function to exhaust the iterator in one shot.\n",
    "\n",
    "One nice application of `zip()`: This iterator can be the sole argument for creating a dictionary with `dict()`:"
   ]
  },
  {
   "cell_type": "code",
   "execution_count": null,
   "metadata": {},
   "outputs": [],
   "source": [
    "dict(zip(['a', 'b', 'c'], [1, 2, 3]))"
   ]
  },
  {
   "cell_type": "markdown",
   "metadata": {},
   "source": [
    "Why? A dictionary can be initialized with a list of tuples:\n",
    "`dict([('a', 1), ('b', 2), ...])`. <br/>\n",
    "This does only work with the `dict` command, not with the curly braces."
   ]
  },
  {
   "cell_type": "markdown",
   "metadata": {
    "slideshow": {
     "slide_type": "subslide"
    }
   },
   "source": [
    "### More examples of Python iterators (2)\n",
    "The `itertools` libraries provide a lot of convenience iterator implementations. \n",
    "\n",
    "**Example:** Use `itertools.count(start, step) is very useful for retrieving an infinite counter for numbers."
   ]
  },
  {
   "cell_type": "code",
   "execution_count": null,
   "metadata": {},
   "outputs": [],
   "source": [
    "import itertools\n",
    "counter = itertools.count(3, 0.1)\n",
    "print(next(counter))\n",
    "print(next(counter))\n",
    "print(next(counter))\n",
    "# ..."
   ]
  },
  {
   "cell_type": "markdown",
   "metadata": {
    "slideshow": {
     "slide_type": "subslide"
    }
   },
   "source": [
    "### More examples of Python iterators (3)\n",
    "\n",
    "**Example:** The `itertools.cycle()` is convenient if you need to repeat the same sequence over and over again. "
   ]
  },
  {
   "cell_type": "code",
   "execution_count": null,
   "metadata": {
    "slideshow": {
     "slide_type": "fragment"
    }
   },
   "outputs": [],
   "source": [
    "workdays = itertools.cycle(['Mon', 'Tue', 'Wed', 'Thu', 'Fri'])\n",
    "for idx in range(7):\n",
    "    print(next(workdays))"
   ]
  },
  {
   "cell_type": "markdown",
   "metadata": {
    "slideshow": {
     "slide_type": "-"
    }
   },
   "source": [
    "#### Caution: Do NOT use the `list()` function to read from the counter, it will never come back until you run out of memory!!"
   ]
  },
  {
   "cell_type": "markdown",
   "metadata": {
    "slideshow": {
     "slide_type": "subslide"
    }
   },
   "source": [
    "### Exercise: Put together everything we've learned so far.\n",
    "\n",
    "Let's build go back to the `/etc/passwd` file and generate the same result as the `csv.DictReader()` does. I.e. produce a list of dictionaries containing all fields for every line of the file.\n"
   ]
  },
  {
   "cell_type": "markdown",
   "metadata": {
    "slideshow": {
     "slide_type": "fragment"
    }
   },
   "source": [
    "#### Possible solution:"
   ]
  },
  {
   "cell_type": "code",
   "execution_count": null,
   "metadata": {
    "slideshow": {
     "slide_type": "fragment"
    }
   },
   "outputs": [],
   "source": [
    "fields = ['user', 'pwd', 'uid', 'gid', 'desc', 'home', 'shell']\n",
    "fp = open('/etc/passwd')\n",
    "\n",
    "[dict(zip(fields, row.split(':'))) for row in fp]"
   ]
  },
  {
   "cell_type": "markdown",
   "metadata": {
    "slideshow": {
     "slide_type": "slide"
    }
   },
   "source": [
    "# Generators"
   ]
  },
  {
   "cell_type": "markdown",
   "metadata": {
    "slideshow": {
     "slide_type": "subslide"
    }
   },
   "source": [
    "## Use Generators to build your own iterator functions."
   ]
  },
  {
   "cell_type": "markdown",
   "metadata": {
    "slideshow": {
     "slide_type": "fragment"
    }
   },
   "source": [
    "### But first quickly recap Python functions:\n",
    "```\n",
    "def myfunction(arg1, arg2):\n",
    "    res = arg1 + arg2\n",
    "    return res\n",
    "```\n",
    "A function accepts (optional) input values, and - if it contains a `return` statement - the returned value is the result of the function. Easy."
   ]
  },
  {
   "cell_type": "markdown",
   "metadata": {
    "slideshow": {
     "slide_type": "subslide"
    }
   },
   "source": [
    "### So, how to build a generator?\n",
    "\n",
    "A function is automagically converted into a generator if it contains one (or more) `yield`-statements.\n",
    "\n",
    "Example:"
   ]
  },
  {
   "cell_type": "code",
   "execution_count": null,
   "metadata": {},
   "outputs": [],
   "source": [
    "def dummy_generator():\n",
    "    index = 0\n",
    "    yield index\n",
    "    index += 1\n",
    "    yield index\n",
    "    index += 2\n",
    "    yield index\n",
    "\n",
    "dg = dummy_generator()\n",
    "print(dg)\n",
    "list(dg)"
   ]
  },
  {
   "cell_type": "markdown",
   "metadata": {},
   "source": [
    "It is important to understand that the generator remembers the state of all internal variables in between yield statements, and continues with the next statement after the yield."
   ]
  },
  {
   "cell_type": "markdown",
   "metadata": {
    "slideshow": {
     "slide_type": "subslide"
    }
   },
   "source": [
    "### This of course also works using loops within a generator:"
   ]
  },
  {
   "cell_type": "code",
   "execution_count": 147,
   "metadata": {
    "slideshow": {
     "slide_type": "-"
    }
   },
   "outputs": [],
   "source": [
    "def my_char_generator(mystring):\n",
    "    for char in mystring:\n",
    "        yield char"
   ]
  },
  {
   "cell_type": "code",
   "execution_count": null,
   "metadata": {
    "slideshow": {
     "slide_type": "-"
    }
   },
   "outputs": [],
   "source": [
    "mycg = my_char_generator('ebi')\n",
    "print('start: ', next(mycg))\n",
    "for char in mycg:\n",
    "    print('other: ', char)"
   ]
  },
  {
   "cell_type": "markdown",
   "metadata": {
    "slideshow": {
     "slide_type": "subslide"
    }
   },
   "source": [
    "### Exercise: Re-implement basic `range()` functionality as generator"
   ]
  },
  {
   "cell_type": "code",
   "execution_count": null,
   "metadata": {
    "slideshow": {
     "slide_type": "fragment"
    }
   },
   "outputs": [],
   "source": [
    "def myrange(maxval):\n",
    "    counter = 0\n",
    "    while counter < maxval:\n",
    "        yield counter\n",
    "        counter += 1\n",
    "        \n",
    "list(myrange(5)) == list(range(5))    # What does this print?"
   ]
  },
  {
   "cell_type": "markdown",
   "metadata": {
    "slideshow": {
     "slide_type": "subslide"
    }
   },
   "source": [
    "### Special type of generators: generator expressions\n",
    "\n",
    "They look very similar to list-comprehensions which we showed before:\n",
    "\n",
    "```lc = [value *2 for value in range(5)]```\n",
    "\n",
    "Just replace the square-brackets with round parentheses and you made your first generator expressions:"
   ]
  },
  {
   "cell_type": "code",
   "execution_count": null,
   "metadata": {
    "slideshow": {
     "slide_type": "fragment"
    }
   },
   "outputs": [],
   "source": [
    "ge = (value * 2 for value in range(5))\n",
    "print(ge)\n",
    "print(list(ge))                           # or alternatively loop over 'ge'"
   ]
  },
  {
   "cell_type": "markdown",
   "metadata": {
    "slideshow": {
     "slide_type": "fragment"
    }
   },
   "source": [
    "#### Keep in mind:\n",
    "- list/set/dict-comprehensions generate the entire data structure immediately\n",
    "- generator-expressions generate each value on demand (lazy evaluation)"
   ]
  },
  {
   "cell_type": "markdown",
   "metadata": {
    "slideshow": {
     "slide_type": "slide"
    }
   },
   "source": [
    "# Ensuring code quality through automatic testing"
   ]
  },
  {
   "cell_type": "markdown",
   "metadata": {
    "slideshow": {
     "slide_type": "subslide"
    }
   },
   "source": [
    "## Why testing?\n",
    "\n",
    "- Code quality doesn't matter for hacky prototype code ...\n",
    "- ... but becomes an issue when a project grows\n",
    "- It costs time to write tests, but pays off quickly when automatic testing is applied\n",
    "- Automatic tests are especially useful if you need to refactor (improve/enhance) an existing function and you want to be sure it still works as expected"
   ]
  },
  {
   "cell_type": "markdown",
   "metadata": {
    "slideshow": {
     "slide_type": "subslide"
    }
   },
   "source": [
    "## Different types of testing\n",
    "- **Unittests:**\n",
    "  Tests units of code (e.g. functions) independently of the rest of the code base\n",
    "- **Integration tests:**\n",
    "  Tests that larger units of code (modules, functions) properly iteract with each other\n",
    "- **Smoke tests:**\n",
    "  Tests that the system still behaves reliably under heavy load\n",
    "\n",
    "## Test-driven development (TDD)\n",
    "This term means, that you first define WHAT a new function (or class) should do and HOW it is called and what is returned (aka its 'signature'). Then you write the corresponding test that checks for the expected behavior. AFTER writing the tests you implement the function body. The task if finished once all tests succeed."
   ]
  },
  {
   "cell_type": "markdown",
   "metadata": {
    "slideshow": {
     "slide_type": "subslide"
    }
   },
   "source": [
    "# Exercise: Write your first unittest functions.\n",
    "\n",
    "### Goal\n",
    "The goal of this exercise is that we want to have a function that accepts a list of numbers and adds them up.\n",
    "Items can be of type\n",
    "- integers \n",
    "- floats\n",
    "\n",
    "### Approach\n",
    "Open a fresh jupyter notebook (on the jupyter homepage tab click on 'New' on the right hand side).\n",
    "\n",
    "In the first cell enter:"
   ]
  },
  {
   "cell_type": "code",
   "execution_count": null,
   "metadata": {
    "slideshow": {
     "slide_type": "-"
    }
   },
   "outputs": [],
   "source": [
    "%%writefile mycode.py\n",
    "\n",
    "def add_it_up(items):\n",
    "   pass   # \"pass\" here means, nothing is done, and None is returned"
   ]
  },
  {
   "cell_type": "markdown",
   "metadata": {
    "slideshow": {
     "slide_type": "subslide"
    }
   },
   "source": [
    "## Writing the test functions\n",
    "\n",
    "Create a second cell an enter the following test code:"
   ]
  },
  {
   "cell_type": "code",
   "execution_count": 20,
   "metadata": {
    "slideshow": {
     "slide_type": "-"
    }
   },
   "outputs": [
    {
     "name": "stdout",
     "output_type": "stream",
     "text": [
      "Overwriting test_mycode.py\n"
     ]
    }
   ],
   "source": [
    "%%writefile test_mycode.py\n",
    "\n",
    "from mycode import add_it_up\n",
    "\n",
    "def test_add_integers():\n",
    "    assert add_it_up([1, 2, 3]) == 6\n",
    "   \n",
    "def test_add_floats():\n",
    "    assert 1 == 0   # write your test"
   ]
  },
  {
   "cell_type": "markdown",
   "metadata": {
    "slideshow": {
     "slide_type": "-"
    }
   },
   "source": [
    "Now, think about corner cases for further tests ... e.g. empty lists are passed ... what should be the return value???"
   ]
  },
  {
   "cell_type": "markdown",
   "metadata": {
    "slideshow": {
     "slide_type": "subslide"
    }
   },
   "source": [
    "## Install the 'pytest' package:\n",
    "\n",
    "In a 3rd cell enter and execute:"
   ]
  },
  {
   "cell_type": "code",
   "execution_count": null,
   "metadata": {
    "slideshow": {
     "slide_type": "-"
    }
   },
   "outputs": [],
   "source": [
    "! pip install pytest"
   ]
  },
  {
   "cell_type": "markdown",
   "metadata": {},
   "source": [
    "This will print out a lot of detail that we do not need any longer. You can safely delete this cell - make sure your are im 'command'-mode (i.e. the frame around it is blue), then type `dd` (hit the 'd' key twice). This will just remove this cell."
   ]
  },
  {
   "cell_type": "markdown",
   "metadata": {
    "slideshow": {
     "slide_type": "subslide"
    }
   },
   "source": [
    "## Run the tests\n",
    "Create a new cell, the type and execute pytest.\n",
    "\n",
    "### What it does:\n",
    "pytest looks for files which start with `test_`-prefix. Inside those found files it looks for function also with the `test_`-prefix, and executes them.\n",
    "\n",
    "The outcome should look something like:"
   ]
  },
  {
   "cell_type": "code",
   "execution_count": null,
   "metadata": {
    "scrolled": true,
    "slideshow": {
     "slide_type": "-"
    }
   },
   "outputs": [],
   "source": [
    "! pytest"
   ]
  },
  {
   "cell_type": "markdown",
   "metadata": {
    "slideshow": {
     "slide_type": "subslide"
    }
   },
   "source": [
    "## It's time for coding\n",
    "\n",
    "So, now go and find your implementation for the `add_it_up` function, and rerun `pytest`. Loop until all tests pass."
   ]
  },
  {
   "cell_type": "markdown",
   "metadata": {
    "slideshow": {
     "slide_type": "subslide"
    }
   },
   "source": [
    "## Enhancing the `add_it_up()` function\n",
    "Now we come to a typical situation in larger projects: \n",
    "- There is a function that does something (well)\n",
    "- But it needs to cover some additional functionality.\n",
    "\n",
    "In our case the `add_it_up()` function should now also be able to sum up strings. \n",
    "In Python the following is completely valid code:\n",
    "```\n",
    "somevar = \"abc\" + \"def\"\n",
    "```\n",
    "\n",
    "#### Exercise: \n",
    "- Add a new test function `test_add_strings()`. \n",
    "- Refactor the `add_it_up()` to support this functionality."
   ]
  },
  {
   "cell_type": "markdown",
   "metadata": {
    "slideshow": {
     "slide_type": "slide"
    }
   },
   "source": [
    "# Then End\n",
    "\n",
    "### I hope you had fun and learned something from this session.\n",
    "\n",
    "### Happy hacking!"
   ]
  }
 ],
 "metadata": {
  "celltoolbar": "Slideshow",
  "kernelspec": {
   "display_name": "Python 3",
   "language": "python",
   "name": "python3"
  },
  "language_info": {
   "codemirror_mode": {
    "name": "ipython",
    "version": 3
   },
   "file_extension": ".py",
   "mimetype": "text/x-python",
   "name": "python",
   "nbconvert_exporter": "python",
   "pygments_lexer": "ipython3",
   "version": "3.6.4"
  }
 },
 "nbformat": 4,
 "nbformat_minor": 2
}
